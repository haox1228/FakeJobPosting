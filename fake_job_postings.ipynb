{
 "cells": [
  {
   "cell_type": "code",
   "execution_count": 23,
   "metadata": {},
   "outputs": [],
   "source": [
    "import random\n",
    "import pandas as pd\n",
    "import numpy as np\n",
    "from sklearn.utils import shuffle\n",
    "import matplotlib.pyplot as plt\n",
    "import seaborn as sns\n",
    "import warnings\n",
    "warnings.filterwarnings(\"ignore\")\n",
    "import re\n",
    "import nltk\n",
    "import time\n",
    "import ftfy\n",
    "from collections import Counter\n",
    "#nltk.download('averaged_perceptron_tagger')\n",
    "#nltk.download('wordnet')"
   ]
  },
  {
   "cell_type": "markdown",
   "metadata": {},
   "source": [
    "# Data Preprocessing"
   ]
  },
  {
   "cell_type": "code",
   "execution_count": 24,
   "metadata": {
    "_cell_guid": "79c7e3d0-c299-4dcb-8224-4455121ee9b0",
    "_uuid": "d629ff2d2480ee46fbb7e2d37f6b5fab8052498a",
    "scrolled": true
   },
   "outputs": [
    {
     "data": {
      "text/plain": [
       "job_id                 0.000000\n",
       "title                  0.000000\n",
       "location               0.019351\n",
       "department             0.645805\n",
       "salary_range           0.839597\n",
       "company_profile        0.185011\n",
       "description            0.000056\n",
       "requirements           0.150727\n",
       "benefits               0.403244\n",
       "telecommuting          0.000000\n",
       "has_company_logo       0.000000\n",
       "has_questions          0.000000\n",
       "employment_type        0.194128\n",
       "required_experience    0.394295\n",
       "required_education     0.453300\n",
       "industry               0.274217\n",
       "function               0.361018\n",
       "fraudulent             0.000000\n",
       "dtype: float64"
      ]
     },
     "execution_count": 24,
     "metadata": {},
     "output_type": "execute_result"
    }
   ],
   "source": [
    "# read the original dataset\n",
    "original = pd.read_csv(\"/Users/haox/Desktop/fake_job_postings.csv\")\n",
    "original.shape\n",
    "original.isnull().sum()/len(original)"
   ]
  },
  {
   "cell_type": "markdown",
   "metadata": {},
   "source": [
    "Before we start to predict the fake job posting by classificationn model, we can drop the columns that does not deeply correlate with the prediction such as \"job_id\", \"title\", \"location\". Besides, since the dataset has a lot of missing or null value, we have to delete the columns that has a lot of missing value, such as \"department\"(64.58% null), \"salary_range\"(83.96% null), \"benefits\" (40.32% null), \"required_education (45.33% null)\" etc."
   ]
  },
  {
   "cell_type": "markdown",
   "metadata": {},
   "source": [
    "As a result, the remaining dataset consists \"telecommuting\", \"has_company_logo\", \"has_questionns\", \"description\", \"fradulent\". The column \"description\" has the detailed description of the job posting which would be the most helpful column for the prediction."
   ]
  },
  {
   "cell_type": "code",
   "execution_count": 25,
   "metadata": {},
   "outputs": [],
   "source": [
    "#extract the useful columns from the dataset.\n",
    "data = original.loc[:, [\"telecommuting\",\"has_company_logo\",\"has_questions\",\"description\",\"fraudulent\"]]\n",
    "# set the orders of the columns\n",
    "columns_order = [\"telecommuting\",\"has_company_logo\",\"has_questions\",\"description\",\"fraudulent\"]\n",
    "data = data[columns_order]\n",
    "\n",
    "# in the currrent dataset, there is still one row that has null value indescription, so we have to drop it.\n",
    "data = data.dropna()"
   ]
  },
  {
   "cell_type": "code",
   "execution_count": 26,
   "metadata": {},
   "outputs": [
    {
     "name": "stdout",
     "output_type": "stream",
     "text": [
      "fake job posting:  865\n",
      "real job posting:  17014\n"
     ]
    }
   ],
   "source": [
    "print(\"fake job posting: \", data.loc[data[\"fraudulent\"]==1, :].shape[0])\n",
    "print(\"real job posting: \", data.loc[data[\"fraudulent\"]==0, :].shape[0])"
   ]
  },
  {
   "cell_type": "code",
   "execution_count": 27,
   "metadata": {},
   "outputs": [
    {
     "data": {
      "image/png": "[encoded data removed]",
      "text/plain": [
       "<Figure size 504x360 with 1 Axes>"
      ]
     },
     "metadata": {
      "needs_background": "light"
     },
     "output_type": "display_data"
    }
   ],
   "source": [
    "plt.figure(figsize = (7,5))\n",
    "sns.countplot(x = data.fraudulent, data = data)\n",
    "plt.title('Fradulent vs Not Fraudulent')\n",
    "plt.show()"
   ]
  },
  {
   "cell_type": "markdown",
   "metadata": {},
   "source": [
    "*  Fake job posting: 865\n",
    "*  Real job posting: 17014\n",
    "*  From the comparison of the fake and real job posting in this dataset, we know that there is a serious imbalance in the dataset. In order to balance the dataset for better utilization, we extract all the fake job posting and then random sample 1000 real job posting."
   ]
  },
  {
   "cell_type": "code",
   "execution_count": 28,
   "metadata": {},
   "outputs": [],
   "source": [
    "# set the random seed\n",
    "random.seed(42)\n",
    "# extract 1000 rows from the dataset where fraudulent equals to 0 for future model training\n",
    "data_fraudulent_0_idx = random.choices(data.loc[data[\"fraudulent\"]==0].index, k=1000)\n",
    "data_fraudulent_0 = data.loc[data_fraudulent_0_idx, :]\n",
    "\n",
    "# extract all the rows where fraudulent is 1\n",
    "data_fraudulent_1 = data.loc[data[\"fraudulent\"]==1, :]\n",
    "\n",
    "# concatenate the dataframe above into a new dataframe\n",
    "data = pd.concat([data_fraudulent_0, data_fraudulent_1], axis=0)\n",
    "#Use shuffle in the sklearn.util to randomly reorder the rows in the new dataframe (we set the random seed as 42).\n",
    "data = shuffle(data, random_state=42)"
   ]
  },
  {
   "cell_type": "markdown",
   "metadata": {},
   "source": [
    "# Preprocess the text of \"description\" column"
   ]
  },
  {
   "cell_type": "markdown",
   "metadata": {},
   "source": [
    "In this part, we use the module nltk to tokenize the \"description\" column to extract features to build NLP model "
   ]
  },
  {
   "cell_type": "code",
   "execution_count": 29,
   "metadata": {},
   "outputs": [],
   "source": [
    "# 1. preprocess the text of \"description\"\n",
    "\n",
    "#in order to analyze the text in description, we first have to deal with the space, line feeds and url.\n",
    "# def preprocess(text):\n",
    "\n",
    "#     multispace_re = re.compile(r\"\\s{2,}\")\n",
    "#     newline_re = re.compile(r\"\\n+\")\n",
    "#     url_re = re.compile(r\"(?:https?://)?(?:[-\\w]+\\.)+[a-zA-Z]{2,9}[-\\w/#~:;.?+=&%@~]*\")\n",
    "#     # emoji_re = re.compile(\"([\\U00010000-\\U0010ffff]|[\\uD800-\\uDBFF][\\uDC00-\\uDFFF])\")\n",
    "\n",
    "#     preprocessed_text = multispace_re.sub(\"\",text)\n",
    "#     preprocessed_text = newline_re.sub(\"\",preprocessed_text)\n",
    "#     preprocessed_text = url_re.sub(\"url\", preprocessed_text)\n",
    "#     preprocessed_text = ftfy.fix_text(preprocessed_text)\n",
    "#     return preprocessed_text\n",
    "\n",
    "\n",
    "# 2. use the word tokenize tool in nltk to split the words in the text of description\n",
    "def nltk_word_tokenize(text, advanced_tokenize=True):\n",
    "    if advanced_tokenize:\n",
    "        advanced_text_tokenize = nltk.tokenize.TweetTokenizer()\n",
    "        return advanced_text_tokenize.tokenize(text)\n",
    "    else:\n",
    "        return nltk.word_tokenize(text)\n",
    "\n",
    "\n",
    "# 3. create a class to generate a document to restore all the words that were splitted in the 'description' column by using nltk module\n",
    "class Document():\n",
    "    def __init__(self):\n",
    "        # create a token list to store all the words after split\n",
    "        self.tokens_list = []\n",
    "        # initialize an int to count how many words after split\n",
    "        self.num_tokens = 0\n",
    "        # store the processed words\n",
    "        self.text = \"\"\n",
    "        \n",
    "\n",
    "    def extract_features_from_text(self,text):\n",
    "\n",
    "        # preprocessed_text = preprocess(text)\n",
    "        # self.text += preprocessed_text\n",
    "        self.text += text\n",
    "\n",
    "        # extract words\n",
    "        tokens = nltk_word_tokenize(text)\n",
    "        self.tokens_list.extend(tokens)\n",
    "        self.num_tokens += len(tokens)\n",
    " \n",
    "\n",
    "    def extract_features_from_texts(self, texts):\n",
    "        for text in texts:\n",
    "            self.extract_features_from_text(text)\n",
    "\n",
    "\n"
   ]
  },
  {
   "cell_type": "markdown",
   "metadata": {},
   "source": [
    "# Build the model"
   ]
  },
  {
   "cell_type": "markdown",
   "metadata": {},
   "source": [
    "* In this part, in order to build the classification model, we first have to vectorize the data\n",
    "* Then we use three algorithm to train the model\n",
    "    * Logistic Regression\n",
    "    * SVM Machine\n",
    "    * Neural Network"
   ]
  },
  {
   "cell_type": "code",
   "execution_count": 33,
   "metadata": {},
   "outputs": [],
   "source": [
    "# Use the skip-gram model on gensim.models.word2vec to featurize the words and build the training model for the \"description\" column\n",
    "# The reason we choose the skip-gram model instead of CBOW model is because skip-gram is more sensitive to the low frequency words because of the nature of dense vectors.\n",
    "# reference source\n",
    "# https://blog.acolyer.org/2016/04/21/the-amazing-power-of-word-vectors/\n",
    "# https://radimrehurek.com/gensim/models/word2vec.html\n",
    "# https://blog.csdn.net/zl_best/article/details/53433072?utm_medium=distribute.pc_relevant.none-task-blog-BlogCommendFromBaidu-5&depth_1-utm_source=distribute.pc_relevant.none-task-blog-BlogCommendFromBaidu-5\n",
    "from gensim.models import word2vec\n",
    "from sklearn.model_selection import StratifiedKFold,cross_validate\n",
    "from sklearn.linear_model import LogisticRegression\n",
    "from sklearn.svm import NuSVC\n",
    "from sklearn.neural_network import MLPClassifier\n",
    "\n",
    "\n",
    "class Fake_job_cls_models():\n",
    "    def __init__(self,data_df):\n",
    "        self.data_df = data_df.copy()\n",
    "        # put the other columns except \"description\" into a new dataframe and turn the dataframe into a Numpy array for future use\n",
    "        self.data_other = np.array( self.data_df.loc[:,[\"telecommuting\",\"has_company_logo\",\"has_questions\"]] )\n",
    "        \n",
    "        # make a new dataframe that only store the \"description\" column so that we can do word embedding\n",
    "        self.data_description_df = self.data_df[\"description\"].to_frame()\n",
    "        # description_sen_tokens stores all the features of descrption after tokenized\n",
    "        self.description_sen_tokens = None\n",
    "        # initialize a variable to store the trained Skip-gram model in order to extra a particular feature vector\n",
    "        self.word2vec_model = self.description_word2vec_model(self.data_description_df)\n",
    "        \n",
    "        # store the density vector that were transferred from \"description\"\n",
    "        self.data_description_vectors = self.description_vectorized_data_creation(self.data_description_df, mean_vector = True)\n",
    "        \n",
    "        #stack horizontally the dense vector and data.other which are already in numpy array \n",
    "        self.X = np.hstack( (self.data_other, self.data_description_vectors) )\n",
    "        \n",
    "        # turn the fradulent column into numpy array\n",
    "        self.Y = np.array( self.data_df[\"fraudulent\"] )\n",
    "\n",
    "    # from the last part, we build a class to tokenize all the text descriotion. \n",
    "    # Create Document object to store the tokenized data.\n",
    "    def corpus_creation(self, data_description_df):\n",
    "        for row in range(data_description_df.shape[0]):\n",
    "            doc = Document()\n",
    "            doc.extract_features_from_text(data_description_df.iloc[row,0])\n",
    "            yield doc\n",
    "    \n",
    "    \n",
    "    \n",
    "    def description_word2vec_model(self, data_description_df):\n",
    "        # create a corpus list to store all the tokenized documents object in description\n",
    "        corpus = []\n",
    "        corpus.extend( self.corpus_creation(data_description_df) )\n",
    "        # description_sen_tokens stores all the features of descrption after tokenized\n",
    "        self.description_sen_tokens = [doc.tokens_list for doc in corpus]\n",
    "\n",
    "        # The model is based on the Skip-gram model in word2vec (set sg = 1). We use this model to vectorize the all the features\n",
    "        # of the tokenized words into word embedding with a size of 300.\n",
    "        # The reason we use Skip-gram instead of CBOW is because for a detailed descrpition like our data, Skip-gram will better capture the semantic between words\n",
    "        # We use negative sampling (hs = 0) to improve the performance.\n",
    "        # we set negative = 10 which means for each of every words we will have 10 negative sample\n",
    "        # by capturing these negative samples, we would reduce the size of matrix significantly\n",
    "        word2vec_model = word2vec.Word2Vec(sentences=self.description_sen_tokens, size=300, window=9, min_count=1, sg=1, hs=0,\n",
    "                                           negative=10, seed=42, iter=5, workers=4)\n",
    "        return word2vec_model\n",
    "    \n",
    "    \n",
    "\n",
    "    # The reason we use word embedding is because the vector could represent the density of the tokenized word in the text.\n",
    "    # We use the mean (mean_vector = true) of the word embedding to represent the density of the pattern.\n",
    "    # comparing to the \"bag of words\" method which would give us sparse feature pattern, we could get a dense vector\n",
    "    # where most of the value is non-zero.\n",
    "    # We could finish the NLP step by vectorizing the natural languae using after it finish all the iteration and completely insert all the density values\n",
    "    def description_vectorized_data_creation(self, data_description_df, mean_vector = True):\n",
    "        \n",
    "        # initialize an empty numpy arrary to store the density of the vector, the column the number of tokenized word and the row is the size of the word embedding\n",
    "        data_description_vectors = np.zeros( (len(self.description_sen_tokens), 300) )\n",
    "\n",
    "        for num in range(len(self.description_sen_tokens)):\n",
    "            each_description_tokens = self.description_sen_tokens[num]\n",
    "            each_description_vectors = None\n",
    "            \n",
    "            # if the length of the description token is not zero\n",
    "            if len(each_description_tokens) != 0:\n",
    "                \n",
    "                if mean_vector:\n",
    "                    each_description_vectors = np.vstack((self.word2vec_model.wv[token] for token in each_description_tokens))\n",
    "                    # get the density by getting the mean value of the 300-size word embedding vector\n",
    "                    each_description_vectors = np.mean(each_description_vectors, axis=0)\n",
    "\n",
    "                else:\n",
    "                    each_description_vectors = np.vstack((self.word2vec_model.wv[token] for token in each_description_tokens))\n",
    "                    # if the mean_vector is false, get the density by getting the sum value of the word embedding\n",
    "                    each_description_vectors = np.sum(each_description_vectors, axis=0)\n",
    "\n",
    "                # after each of the iteration, update the data description vector by inserting the density of the word vector \n",
    "                data_description_vectors[num] = each_description_vectors\n",
    "                \n",
    "            else:\n",
    "            # if the length of the description token is zero, print the number of them\n",
    "                print(\"0 num:\",num)\n",
    "                continue\n",
    "        return data_description_vectors\n",
    "\n",
    "    \n",
    "    \n",
    "    # we build this method to see the important measure of evaluating the following classification model, such as the mean, standard deviation, min and max of\n",
    "    # accuracy, precision, recall，and F1\n",
    "    def print_cv_scores_summary(self, cv_scores):\n",
    "        def cv_score_summary(name,scores):\n",
    "            print(\"{}:  mean = {:.2f}%,  sd = {:.2f}%,  min = {:.2f}%,  max = {:.2f}%\".format(name, scores.mean() * 100,\n",
    "                                                                                        scores.std() * 100,\n",
    "                                                                                        scores.min() * 100,\n",
    "                                                                                        scores.max() * 100))\n",
    "\n",
    "        cv_score_summary(\"Accuracy\", cv_scores['test_accuracy'])\n",
    "        cv_score_summary(\"Precision\", cv_scores['test_precision_weighted'])\n",
    "        cv_score_summary(\"Recall\", cv_scores['test_recall_weighted'])\n",
    "        cv_score_summary(\"F1\", cv_scores['test_f1_weighted'])\n",
    "        \n",
    "    \n",
    "    # Here we use logistic regression. \n",
    "    # Since the essense of logistic regression is a linear regression with the sigmoid function which will also show the direction of association,\n",
    "    # which is suitable for classification model.\n",
    "    # We generate a 10 time cross validation and output the important measures that we mentioned above to evaluate the performance\n",
    "    def Logis_Regression(self):\n",
    "        time_start = time.time()\n",
    "        \n",
    "        logis_reg = LogisticRegression(penalty='l1',solver=\"liblinear\",max_iter=300)\n",
    "        logis_reg_cv_scores = cross_validate(logis_reg, self.X, self.Y, cv=StratifiedKFold(n_splits=10,random_state=0), return_train_score=False,\n",
    "                                       scoring=[\"accuracy\",\"precision_weighted\",\"recall_weighted\",\"f1_weighted\"])\n",
    "        \n",
    "        time_end = time.time()\n",
    "        print(\"model run time: \", time_end - time_start, \"seconds\")\n",
    "        \n",
    "        print(\"After 10 times of cross validation of logistic regression, the results of measures are: \")\n",
    "        self.print_cv_scores_summary(logis_reg_cv_scores)\n",
    "    \n",
    "    \n",
    "    \n",
    "    # SVM\n",
    "    def SVM(self):\n",
    "        time_start = time.time()\n",
    "        \n",
    "        svm = NuSVC()\n",
    "        \n",
    "        # 10 times cross validation\n",
    "        svm_cv_scores = cross_validate(svm, self.X, self.Y, cv=StratifiedKFold(n_splits=10,random_state=0), return_train_score=False,\n",
    "                                       scoring=[\"accuracy\",\"precision_weighted\",\"recall_weighted\",\"f1_weighted\"])\n",
    "        \n",
    "        time_end = time.time()\n",
    "        print(\"model run time: \", time_end - time_start, \"seconds\")\n",
    "        \n",
    "        print(\"After 10 times of cross validation of SVM, the results of measures are: \")\n",
    "        self.print_cv_scores_summary(svm_cv_scores)\n",
    "    \n",
    "    \n",
    "    \n",
    "    # FNN\n",
    "    def FNN(self):\n",
    "        time_start = time.time()\n",
    "        \n",
    "        # Build the neural network, the first hidder layer is 30, the second is 20\n",
    "        nn = MLPClassifier(hidden_layer_sizes=(30,20), activation='relu', learning_rate=\"adaptive\", max_iter=500,\n",
    "                          warm_start=True)\n",
    "        \n",
    "        # 10 times cross validation\n",
    "        nn_cv_scores = cross_validate(nn, self.X, self.Y, cv=StratifiedKFold(n_splits=10,random_state=0), return_train_score=False,\n",
    "                                       scoring=[\"accuracy\",\"precision_weighted\",\"recall_weighted\",\"f1_weighted\"])\n",
    "        \n",
    "        time_end = time.time()\n",
    "        print(\"model run time: \", time_end - time_start, \"seconds\")\n",
    "        \n",
    "        print(\"After 10 times of cross validation of FNN, the results of measures are:: \")\n",
    "        self.print_cv_scores_summary(nn_cv_scores)"
   ]
  },
  {
   "cell_type": "code",
   "execution_count": 34,
   "metadata": {},
   "outputs": [
    {
     "name": "stdout",
     "output_type": "stream",
     "text": [
      "0 num: 225\n"
     ]
    }
   ],
   "source": [
    "fake_job_cls_models = Fake_job_cls_models(data)"
   ]
  },
  {
   "cell_type": "code",
   "execution_count": 51,
   "metadata": {},
   "outputs": [
    {
     "name": "stdout",
     "output_type": "stream",
     "text": [
      "The words or phrase that most similar to 'experience' is:\n",
      "[('years', 0.7516058683395386), ('programming', 0.6670236587524414), ('preferably', 0.6629071235656738), ('Minimum', 0.6620178818702698), ('Experience', 0.6596102714538574), ('10', 0.6489766836166382), ('MBA', 0.6471438407897949), ('5', 0.6471325159072876), ('demonstrable', 0.6455799341201782), ('qualifications', 0.6406989097595215)]\n",
      "====================================================================================================\n",
      "The words or phrase that most similar to 'part-time' is:\n",
      "[('full-time', 0.9222885370254517), ('dual-licensed', 0.8181516528129578), ('fields', 0.7893139123916626), ('career', 0.7832638025283813), ('variety', 0.7765883207321167), ('homes', 0.7719781994819641), ('California', 0.7713143825531006), ('find', 0.7678960561752319), ('hourly', 0.7671976089477539), ('schedules.In', 0.763117790222168)]\n"
     ]
    }
   ],
   "source": [
    "print(\"The words or phrase that most similar to 'experience' is:\")\n",
    "print(fake_job_cls_models.word2vec_model.wv.most_similar(\"experience\"))\n",
    "print(\"=\"*100)\n",
    "print(\"The words or phrase that most similar to 'part-time' is:\")\n",
    "print(fake_job_cls_models.word2vec_model.wv.most_similar(\"part-time\"))"
   ]
  },
  {
   "cell_type": "code",
   "execution_count": 20,
   "metadata": {},
   "outputs": [
    {
     "name": "stdout",
     "output_type": "stream",
     "text": [
      "model run time:  2.192249059677124 seconds\n",
      "After 10 times of cross validation of logistic regression, the results of measures are: \n",
      "Accuracy:  mean = 81.39%,  sd = 2.39%,  min = 77.96%,  max = 86.10%\n",
      "Precision:  mean = 81.49%,  sd = 2.34%,  min = 78.44%,  max = 86.18%\n",
      "Recall:  mean = 81.39%,  sd = 2.39%,  min = 77.96%,  max = 86.10%\n",
      "F1:  mean = 81.34%,  sd = 2.43%,  min = 77.67%,  max = 86.05%\n"
     ]
    }
   ],
   "source": [
    "# logistic regression model\n",
    "fake_job_cls_models.Logis_Regression()"
   ]
  },
  {
   "cell_type": "code",
   "execution_count": 19,
   "metadata": {},
   "outputs": [
    {
     "name": "stdout",
     "output_type": "stream",
     "text": [
      "model run time:  10.353416204452515 seconds\n",
      "After 10 times of cross validation of SVM, the results of measures are: \n",
      "Accuracy:  mean = 79.67%,  sd = 3.07%,  min = 75.81%,  max = 85.03%\n",
      "Precision:  mean = 79.84%,  sd = 2.94%,  min = 76.57%,  max = 85.05%\n",
      "Recall:  mean = 79.67%,  sd = 3.07%,  min = 75.81%,  max = 85.03%\n",
      "F1:  mean = 79.60%,  sd = 3.13%,  min = 75.35%,  max = 85.00%\n"
     ]
    }
   ],
   "source": [
    "# SVM model\n",
    "fake_job_cls_models.SVM()"
   ]
  },
  {
   "cell_type": "code",
   "execution_count": 21,
   "metadata": {},
   "outputs": [
    {
     "name": "stdout",
     "output_type": "stream",
     "text": [
      "model run time:  25.881951808929443 seconds\n",
      "After 10 times of cross validation of FNN, the results of measures are:: \n",
      "Accuracy:  mean = 87.24%,  sd = 2.12%,  min = 81.82%,  max = 89.25%\n",
      "Precision:  mean = 87.34%,  sd = 2.00%,  min = 82.32%,  max = 89.28%\n",
      "Recall:  mean = 87.24%,  sd = 2.12%,  min = 81.82%,  max = 89.25%\n",
      "F1:  mean = 87.23%,  sd = 2.13%,  min = 81.83%,  max = 89.25%\n"
     ]
    }
   ],
   "source": [
    "# FNN model\n",
    "fake_job_cls_models.FNN()"
   ]
  },
  {
   "cell_type": "code",
   "execution_count": null,
   "metadata": {},
   "outputs": [],
   "source": []
  }
 ],
 "metadata": {
  "kernelspec": {
   "display_name": "Python 3",
   "language": "python",
   "name": "python3"
  },
  "language_info": {
   "codemirror_mode": {
    "name": "ipython",
    "version": 3
   },
   "file_extension": ".py",
   "mimetype": "text/x-python",
   "name": "python",
   "nbconvert_exporter": "python",
   "pygments_lexer": "ipython3",
   "version": "3.7.4"
  }
 },
 "nbformat": 4,
 "nbformat_minor": 4
}
